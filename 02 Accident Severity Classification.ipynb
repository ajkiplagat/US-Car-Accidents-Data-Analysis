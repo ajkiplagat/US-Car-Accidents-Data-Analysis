{
 "cells": [
  {
   "cell_type": "markdown",
   "metadata": {},
   "source": [
    "#  Accident Data: Modeling and Evaluation Steps\n",
    "## Import Libraries"
   ]
  },
  {
   "cell_type": "code",
   "execution_count": 1,
   "metadata": {},
   "outputs": [],
   "source": [
    "import pandas as pd\n",
    "import numpy as np\n",
    "import seaborn as sns\n",
    "import matplotlib as mpl\n",
    "import matplotlib.pyplot as plt\n",
    "%matplotlib inline\n",
    "\n",
    "pd.set_option('display.max_columns', None)\n",
    "import pickle"
   ]
  },
  {
   "cell_type": "code",
   "execution_count": 24,
   "metadata": {},
   "outputs": [],
   "source": [
    "#Load data previously prepared for modeling\n",
    "df = pd.read_pickle('accident_data_for_classification.pkl')"
   ]
  },
  {
   "cell_type": "code",
   "execution_count": 3,
   "metadata": {},
   "outputs": [
    {
     "data": {
      "text/html": [
       "<div>\n",
       "<style scoped>\n",
       "    .dataframe tbody tr th:only-of-type {\n",
       "        vertical-align: middle;\n",
       "    }\n",
       "\n",
       "    .dataframe tbody tr th {\n",
       "        vertical-align: top;\n",
       "    }\n",
       "\n",
       "    .dataframe thead th {\n",
       "        text-align: right;\n",
       "    }\n",
       "</style>\n",
       "<table border=\"1\" class=\"dataframe\">\n",
       "  <thead>\n",
       "    <tr style=\"text-align: right;\">\n",
       "      <th></th>\n",
       "      <th>ID</th>\n",
       "      <th>Source</th>\n",
       "      <th>Severity</th>\n",
       "      <th>Start_Time</th>\n",
       "      <th>End_Time</th>\n",
       "      <th>Start_Lat</th>\n",
       "      <th>Start_Lng</th>\n",
       "      <th>Distance(mi)</th>\n",
       "      <th>Description</th>\n",
       "      <th>Street</th>\n",
       "      <th>Side</th>\n",
       "      <th>City</th>\n",
       "      <th>County</th>\n",
       "      <th>State</th>\n",
       "      <th>Zipcode</th>\n",
       "      <th>Country</th>\n",
       "      <th>Timezone</th>\n",
       "      <th>Airport_Code</th>\n",
       "      <th>Weather_Timestamp</th>\n",
       "      <th>Temperature(F)</th>\n",
       "      <th>Humidity(%)</th>\n",
       "      <th>Pressure(in)</th>\n",
       "      <th>Visibility(mi)</th>\n",
       "      <th>Wind_Direction</th>\n",
       "      <th>Weather_Condition</th>\n",
       "      <th>Amenity</th>\n",
       "      <th>Bump</th>\n",
       "      <th>Crossing</th>\n",
       "      <th>Give_Way</th>\n",
       "      <th>Junction</th>\n",
       "      <th>No_Exit</th>\n",
       "      <th>Railway</th>\n",
       "      <th>Roundabout</th>\n",
       "      <th>Station</th>\n",
       "      <th>Stop</th>\n",
       "      <th>Traffic_Calming</th>\n",
       "      <th>Traffic_Signal</th>\n",
       "      <th>Sunrise_Sunset</th>\n",
       "      <th>Civil_Twilight</th>\n",
       "      <th>Nautical_Twilight</th>\n",
       "      <th>Astronomical_Twilight</th>\n",
       "      <th>day_of_week</th>\n",
       "      <th>Start_Date</th>\n",
       "      <th>time_of_day</th>\n",
       "      <th>hour_of_day</th>\n",
       "      <th>Holiday</th>\n",
       "      <th>precipitation_data_present</th>\n",
       "      <th>end_coordinates_present</th>\n",
       "      <th>windchill_data_present</th>\n",
       "    </tr>\n",
       "  </thead>\n",
       "  <tbody>\n",
       "    <tr>\n",
       "      <th>0</th>\n",
       "      <td>A-1</td>\n",
       "      <td>MapQuest</td>\n",
       "      <td>1</td>\n",
       "      <td>2016-02-08 05:46:00</td>\n",
       "      <td>2016-02-08 11:00:00</td>\n",
       "      <td>39.865147</td>\n",
       "      <td>-84.058723</td>\n",
       "      <td>0.01</td>\n",
       "      <td>Right lane blocked due to accident on I-70 Eas...</td>\n",
       "      <td>I-70 E</td>\n",
       "      <td>R</td>\n",
       "      <td>Dayton</td>\n",
       "      <td>Montgomery</td>\n",
       "      <td>OH</td>\n",
       "      <td>45424</td>\n",
       "      <td>US</td>\n",
       "      <td>US/Eastern</td>\n",
       "      <td>KFFO</td>\n",
       "      <td>2016-02-08 05:58:00</td>\n",
       "      <td>36.9</td>\n",
       "      <td>91.0</td>\n",
       "      <td>29.68</td>\n",
       "      <td>10.0</td>\n",
       "      <td>Calm</td>\n",
       "      <td>Light Rain</td>\n",
       "      <td>False</td>\n",
       "      <td>False</td>\n",
       "      <td>False</td>\n",
       "      <td>False</td>\n",
       "      <td>False</td>\n",
       "      <td>False</td>\n",
       "      <td>False</td>\n",
       "      <td>False</td>\n",
       "      <td>False</td>\n",
       "      <td>False</td>\n",
       "      <td>False</td>\n",
       "      <td>False</td>\n",
       "      <td>Night</td>\n",
       "      <td>Night</td>\n",
       "      <td>Night</td>\n",
       "      <td>Night</td>\n",
       "      <td>Monday</td>\n",
       "      <td>2016-02-08</td>\n",
       "      <td>05:46:00</td>\n",
       "      <td>5</td>\n",
       "      <td>False</td>\n",
       "      <td>True</td>\n",
       "      <td>False</td>\n",
       "      <td>False</td>\n",
       "    </tr>\n",
       "    <tr>\n",
       "      <th>1</th>\n",
       "      <td>A-2</td>\n",
       "      <td>MapQuest</td>\n",
       "      <td>0</td>\n",
       "      <td>2016-02-08 06:07:59</td>\n",
       "      <td>2016-02-08 06:37:59</td>\n",
       "      <td>39.928059</td>\n",
       "      <td>-82.831184</td>\n",
       "      <td>0.01</td>\n",
       "      <td>Accident on Brice Rd at Tussing Rd. Expect del...</td>\n",
       "      <td>Brice Rd</td>\n",
       "      <td>L</td>\n",
       "      <td>Reynoldsburg</td>\n",
       "      <td>Franklin</td>\n",
       "      <td>OH</td>\n",
       "      <td>43068-3402</td>\n",
       "      <td>US</td>\n",
       "      <td>US/Eastern</td>\n",
       "      <td>KCMH</td>\n",
       "      <td>2016-02-08 05:51:00</td>\n",
       "      <td>37.9</td>\n",
       "      <td>100.0</td>\n",
       "      <td>29.65</td>\n",
       "      <td>10.0</td>\n",
       "      <td>Calm</td>\n",
       "      <td>Light Rain</td>\n",
       "      <td>False</td>\n",
       "      <td>False</td>\n",
       "      <td>False</td>\n",
       "      <td>False</td>\n",
       "      <td>False</td>\n",
       "      <td>False</td>\n",
       "      <td>False</td>\n",
       "      <td>False</td>\n",
       "      <td>False</td>\n",
       "      <td>False</td>\n",
       "      <td>False</td>\n",
       "      <td>False</td>\n",
       "      <td>Night</td>\n",
       "      <td>Night</td>\n",
       "      <td>Night</td>\n",
       "      <td>Day</td>\n",
       "      <td>Monday</td>\n",
       "      <td>2016-02-08</td>\n",
       "      <td>06:07:59</td>\n",
       "      <td>6</td>\n",
       "      <td>False</td>\n",
       "      <td>True</td>\n",
       "      <td>False</td>\n",
       "      <td>False</td>\n",
       "    </tr>\n",
       "    <tr>\n",
       "      <th>2</th>\n",
       "      <td>A-3</td>\n",
       "      <td>MapQuest</td>\n",
       "      <td>0</td>\n",
       "      <td>2016-02-08 06:49:27</td>\n",
       "      <td>2016-02-08 07:19:27</td>\n",
       "      <td>39.063148</td>\n",
       "      <td>-84.032608</td>\n",
       "      <td>0.01</td>\n",
       "      <td>Accident on OH-32 State Route 32 Westbound at ...</td>\n",
       "      <td>State Route 32</td>\n",
       "      <td>R</td>\n",
       "      <td>Williamsburg</td>\n",
       "      <td>Clermont</td>\n",
       "      <td>OH</td>\n",
       "      <td>45176</td>\n",
       "      <td>US</td>\n",
       "      <td>US/Eastern</td>\n",
       "      <td>KI69</td>\n",
       "      <td>2016-02-08 06:56:00</td>\n",
       "      <td>36.0</td>\n",
       "      <td>100.0</td>\n",
       "      <td>29.67</td>\n",
       "      <td>10.0</td>\n",
       "      <td>SW</td>\n",
       "      <td>Overcast</td>\n",
       "      <td>False</td>\n",
       "      <td>False</td>\n",
       "      <td>False</td>\n",
       "      <td>False</td>\n",
       "      <td>False</td>\n",
       "      <td>False</td>\n",
       "      <td>False</td>\n",
       "      <td>False</td>\n",
       "      <td>False</td>\n",
       "      <td>False</td>\n",
       "      <td>False</td>\n",
       "      <td>True</td>\n",
       "      <td>Night</td>\n",
       "      <td>Night</td>\n",
       "      <td>Day</td>\n",
       "      <td>Day</td>\n",
       "      <td>Monday</td>\n",
       "      <td>2016-02-08</td>\n",
       "      <td>06:49:27</td>\n",
       "      <td>6</td>\n",
       "      <td>False</td>\n",
       "      <td>False</td>\n",
       "      <td>False</td>\n",
       "      <td>True</td>\n",
       "    </tr>\n",
       "    <tr>\n",
       "      <th>3</th>\n",
       "      <td>A-4</td>\n",
       "      <td>MapQuest</td>\n",
       "      <td>1</td>\n",
       "      <td>2016-02-08 07:23:34</td>\n",
       "      <td>2016-02-08 07:53:34</td>\n",
       "      <td>39.747753</td>\n",
       "      <td>-84.205582</td>\n",
       "      <td>0.01</td>\n",
       "      <td>Accident on I-75 Southbound at Exits 52 52B US...</td>\n",
       "      <td>I-75 S</td>\n",
       "      <td>R</td>\n",
       "      <td>Dayton</td>\n",
       "      <td>Montgomery</td>\n",
       "      <td>OH</td>\n",
       "      <td>45417</td>\n",
       "      <td>US</td>\n",
       "      <td>US/Eastern</td>\n",
       "      <td>KDAY</td>\n",
       "      <td>2016-02-08 07:38:00</td>\n",
       "      <td>35.1</td>\n",
       "      <td>96.0</td>\n",
       "      <td>29.64</td>\n",
       "      <td>9.0</td>\n",
       "      <td>SW</td>\n",
       "      <td>Mostly Cloudy</td>\n",
       "      <td>False</td>\n",
       "      <td>False</td>\n",
       "      <td>False</td>\n",
       "      <td>False</td>\n",
       "      <td>False</td>\n",
       "      <td>False</td>\n",
       "      <td>False</td>\n",
       "      <td>False</td>\n",
       "      <td>False</td>\n",
       "      <td>False</td>\n",
       "      <td>False</td>\n",
       "      <td>False</td>\n",
       "      <td>Night</td>\n",
       "      <td>Day</td>\n",
       "      <td>Day</td>\n",
       "      <td>Day</td>\n",
       "      <td>Monday</td>\n",
       "      <td>2016-02-08</td>\n",
       "      <td>07:23:34</td>\n",
       "      <td>7</td>\n",
       "      <td>False</td>\n",
       "      <td>False</td>\n",
       "      <td>False</td>\n",
       "      <td>True</td>\n",
       "    </tr>\n",
       "    <tr>\n",
       "      <th>4</th>\n",
       "      <td>A-5</td>\n",
       "      <td>MapQuest</td>\n",
       "      <td>0</td>\n",
       "      <td>2016-02-08 07:39:07</td>\n",
       "      <td>2016-02-08 08:09:07</td>\n",
       "      <td>39.627781</td>\n",
       "      <td>-84.188354</td>\n",
       "      <td>0.01</td>\n",
       "      <td>Accident on McEwen Rd at OH-725 Miamisburg Cen...</td>\n",
       "      <td>Miamisburg Centerville Rd</td>\n",
       "      <td>R</td>\n",
       "      <td>Dayton</td>\n",
       "      <td>Montgomery</td>\n",
       "      <td>OH</td>\n",
       "      <td>45459</td>\n",
       "      <td>US</td>\n",
       "      <td>US/Eastern</td>\n",
       "      <td>KMGY</td>\n",
       "      <td>2016-02-08 07:53:00</td>\n",
       "      <td>36.0</td>\n",
       "      <td>89.0</td>\n",
       "      <td>29.65</td>\n",
       "      <td>6.0</td>\n",
       "      <td>SW</td>\n",
       "      <td>Mostly Cloudy</td>\n",
       "      <td>False</td>\n",
       "      <td>False</td>\n",
       "      <td>False</td>\n",
       "      <td>False</td>\n",
       "      <td>False</td>\n",
       "      <td>False</td>\n",
       "      <td>False</td>\n",
       "      <td>False</td>\n",
       "      <td>False</td>\n",
       "      <td>False</td>\n",
       "      <td>False</td>\n",
       "      <td>True</td>\n",
       "      <td>Day</td>\n",
       "      <td>Day</td>\n",
       "      <td>Day</td>\n",
       "      <td>Day</td>\n",
       "      <td>Monday</td>\n",
       "      <td>2016-02-08</td>\n",
       "      <td>07:39:07</td>\n",
       "      <td>7</td>\n",
       "      <td>False</td>\n",
       "      <td>False</td>\n",
       "      <td>False</td>\n",
       "      <td>True</td>\n",
       "    </tr>\n",
       "  </tbody>\n",
       "</table>\n",
       "</div>"
      ],
      "text/plain": [
       "    ID    Source  Severity          Start_Time             End_Time  \\\n",
       "0  A-1  MapQuest         1 2016-02-08 05:46:00  2016-02-08 11:00:00   \n",
       "1  A-2  MapQuest         0 2016-02-08 06:07:59  2016-02-08 06:37:59   \n",
       "2  A-3  MapQuest         0 2016-02-08 06:49:27  2016-02-08 07:19:27   \n",
       "3  A-4  MapQuest         1 2016-02-08 07:23:34  2016-02-08 07:53:34   \n",
       "4  A-5  MapQuest         0 2016-02-08 07:39:07  2016-02-08 08:09:07   \n",
       "\n",
       "   Start_Lat  Start_Lng  Distance(mi)  \\\n",
       "0  39.865147 -84.058723          0.01   \n",
       "1  39.928059 -82.831184          0.01   \n",
       "2  39.063148 -84.032608          0.01   \n",
       "3  39.747753 -84.205582          0.01   \n",
       "4  39.627781 -84.188354          0.01   \n",
       "\n",
       "                                         Description  \\\n",
       "0  Right lane blocked due to accident on I-70 Eas...   \n",
       "1  Accident on Brice Rd at Tussing Rd. Expect del...   \n",
       "2  Accident on OH-32 State Route 32 Westbound at ...   \n",
       "3  Accident on I-75 Southbound at Exits 52 52B US...   \n",
       "4  Accident on McEwen Rd at OH-725 Miamisburg Cen...   \n",
       "\n",
       "                      Street Side          City      County State     Zipcode  \\\n",
       "0                     I-70 E    R        Dayton  Montgomery    OH       45424   \n",
       "1                   Brice Rd    L  Reynoldsburg    Franklin    OH  43068-3402   \n",
       "2             State Route 32    R  Williamsburg    Clermont    OH       45176   \n",
       "3                     I-75 S    R        Dayton  Montgomery    OH       45417   \n",
       "4  Miamisburg Centerville Rd    R        Dayton  Montgomery    OH       45459   \n",
       "\n",
       "  Country    Timezone Airport_Code    Weather_Timestamp  Temperature(F)  \\\n",
       "0      US  US/Eastern         KFFO  2016-02-08 05:58:00            36.9   \n",
       "1      US  US/Eastern         KCMH  2016-02-08 05:51:00            37.9   \n",
       "2      US  US/Eastern         KI69  2016-02-08 06:56:00            36.0   \n",
       "3      US  US/Eastern         KDAY  2016-02-08 07:38:00            35.1   \n",
       "4      US  US/Eastern         KMGY  2016-02-08 07:53:00            36.0   \n",
       "\n",
       "   Humidity(%)  Pressure(in)  Visibility(mi) Wind_Direction Weather_Condition  \\\n",
       "0         91.0         29.68            10.0           Calm        Light Rain   \n",
       "1        100.0         29.65            10.0           Calm        Light Rain   \n",
       "2        100.0         29.67            10.0             SW          Overcast   \n",
       "3         96.0         29.64             9.0             SW     Mostly Cloudy   \n",
       "4         89.0         29.65             6.0             SW     Mostly Cloudy   \n",
       "\n",
       "   Amenity   Bump  Crossing  Give_Way  Junction  No_Exit  Railway  Roundabout  \\\n",
       "0    False  False     False     False     False    False    False       False   \n",
       "1    False  False     False     False     False    False    False       False   \n",
       "2    False  False     False     False     False    False    False       False   \n",
       "3    False  False     False     False     False    False    False       False   \n",
       "4    False  False     False     False     False    False    False       False   \n",
       "\n",
       "   Station   Stop  Traffic_Calming  Traffic_Signal Sunrise_Sunset  \\\n",
       "0    False  False            False           False          Night   \n",
       "1    False  False            False           False          Night   \n",
       "2    False  False            False            True          Night   \n",
       "3    False  False            False           False          Night   \n",
       "4    False  False            False            True            Day   \n",
       "\n",
       "  Civil_Twilight Nautical_Twilight Astronomical_Twilight day_of_week  \\\n",
       "0          Night             Night                 Night      Monday   \n",
       "1          Night             Night                   Day      Monday   \n",
       "2          Night               Day                   Day      Monday   \n",
       "3            Day               Day                   Day      Monday   \n",
       "4            Day               Day                   Day      Monday   \n",
       "\n",
       "  Start_Date time_of_day  hour_of_day  Holiday  precipitation_data_present  \\\n",
       "0 2016-02-08    05:46:00            5    False                        True   \n",
       "1 2016-02-08    06:07:59            6    False                        True   \n",
       "2 2016-02-08    06:49:27            6    False                       False   \n",
       "3 2016-02-08    07:23:34            7    False                       False   \n",
       "4 2016-02-08    07:39:07            7    False                       False   \n",
       "\n",
       "   end_coordinates_present  windchill_data_present  \n",
       "0                    False                   False  \n",
       "1                    False                   False  \n",
       "2                    False                    True  \n",
       "3                    False                    True  \n",
       "4                    False                    True  "
      ]
     },
     "execution_count": 3,
     "metadata": {},
     "output_type": "execute_result"
    }
   ],
   "source": [
    "df.head()"
   ]
  },
  {
   "cell_type": "markdown",
   "metadata": {},
   "source": [
    "# Baseline Model"
   ]
  },
  {
   "cell_type": "markdown",
   "metadata": {},
   "source": [
    "Establish a baseline model against which other models can be compared.\n",
    "The baseline model predicts all accidents will be similar to the majority class, i.e. low Severity (0).  "
   ]
  },
  {
   "cell_type": "code",
   "execution_count": 28,
   "metadata": {},
   "outputs": [
    {
     "data": {
      "text/plain": [
       "0    2438264\n",
       "1     964491\n",
       "Name: Severity, dtype: int64"
      ]
     },
     "execution_count": 28,
     "metadata": {},
     "output_type": "execute_result"
    }
   ],
   "source": [
    "df['Severity'].value_counts() #Majority class is 0 "
   ]
  },
  {
   "cell_type": "code",
   "execution_count": 5,
   "metadata": {},
   "outputs": [
    {
     "data": {
      "text/plain": [
       "array([0., 0., 0., ..., 0., 0., 0.])"
      ]
     },
     "execution_count": 5,
     "metadata": {},
     "output_type": "execute_result"
    }
   ],
   "source": [
    "baseline = np.empty(len(df['Severity']))\n",
    "baseline.fill(0) # Make all predictions 0 i.e. low severity\n",
    "baseline"
   ]
  },
  {
   "cell_type": "markdown",
   "metadata": {},
   "source": [
    "**Evaluate Baseline Model using classification report and confusion matrix**"
   ]
  },
  {
   "cell_type": "code",
   "execution_count": 31,
   "metadata": {},
   "outputs": [],
   "source": [
    "from sklearn.metrics import classification_report\n",
    "from sklearn.metrics import confusion_matrix\n",
    "\n",
    "def measure_performance(actual_val, prediction_val):\n",
    "    '''\n",
    "    Evaluates model performance by comparing actual value to predicted value.\n",
    "    Returns performance measures: accuracy, recall, precision and f1-score.\n",
    "    '''\n",
    "    print(classification_report(actual_val, prediction_val))\n",
    "    print(confusion_matrix(actual_val, prediction_val))"
   ]
  },
  {
   "cell_type": "code",
   "execution_count": 8,
   "metadata": {
    "scrolled": false
   },
   "outputs": [
    {
     "name": "stderr",
     "output_type": "stream",
     "text": [
      "/Users/annette/anaconda3/lib/python3.7/site-packages/sklearn/metrics/classification.py:1437: UndefinedMetricWarning: Precision and F-score are ill-defined and being set to 0.0 in labels with no predicted samples.\n",
      "  'precision', 'predicted', average, warn_for)\n"
     ]
    },
    {
     "name": "stdout",
     "output_type": "stream",
     "text": [
      "              precision    recall  f1-score   support\n",
      "\n",
      "           0       0.72      1.00      0.83   2438264\n",
      "           1       0.00      0.00      0.00    964491\n",
      "\n",
      "    accuracy                           0.72   3402755\n",
      "   macro avg       0.36      0.50      0.42   3402755\n",
      "weighted avg       0.51      0.72      0.60   3402755\n",
      "\n",
      "[[2438264       0]\n",
      " [ 964491       0]]\n"
     ]
    }
   ],
   "source": [
    "measure_performance(df['Severity'], baseline) "
   ]
  },
  {
   "cell_type": "markdown",
   "metadata": {},
   "source": [
    "**Baseline Model Accuracy: 72 %**"
   ]
  },
  {
   "cell_type": "markdown",
   "metadata": {},
   "source": [
    "# Identify Features and Target Variable"
   ]
  },
  {
   "cell_type": "code",
   "execution_count": 9,
   "metadata": {},
   "outputs": [
    {
     "data": {
      "text/plain": [
       "Index(['ID', 'Source', 'Severity', 'Start_Time', 'End_Time', 'Start_Lat',\n",
       "       'Start_Lng', 'Distance(mi)', 'Description', 'Street', 'Side', 'City',\n",
       "       'County', 'State', 'Zipcode', 'Country', 'Timezone', 'Airport_Code',\n",
       "       'Weather_Timestamp', 'Temperature(F)', 'Humidity(%)', 'Pressure(in)',\n",
       "       'Visibility(mi)', 'Wind_Direction', 'Weather_Condition', 'Amenity',\n",
       "       'Bump', 'Crossing', 'Give_Way', 'Junction', 'No_Exit', 'Railway',\n",
       "       'Roundabout', 'Station', 'Stop', 'Traffic_Calming', 'Traffic_Signal',\n",
       "       'Sunrise_Sunset', 'Civil_Twilight', 'Nautical_Twilight',\n",
       "       'Astronomical_Twilight', 'day_of_week', 'Start_Date', 'time_of_day',\n",
       "       'hour_of_day', 'Holiday', 'precipitation_data_present',\n",
       "       'end_coordinates_present', 'windchill_data_present'],\n",
       "      dtype='object')"
      ]
     },
     "execution_count": 9,
     "metadata": {},
     "output_type": "execute_result"
    }
   ],
   "source": [
    "df.columns"
   ]
  },
  {
   "cell_type": "code",
   "execution_count": 10,
   "metadata": {},
   "outputs": [],
   "source": [
    "X = df[['Distance(mi)','Side','State', 'Temperature(F)', 'Humidity(%)',\n",
    "        'Pressure(in)','Visibility(mi)', 'Wind_Direction',  'Amenity',\n",
    "       'Bump', 'Crossing', 'Give_Way', 'Junction', 'No_Exit', 'Railway',\n",
    "       'Roundabout', 'Station', 'Stop', 'Traffic_Calming', 'Traffic_Signal',\n",
    "       'Sunrise_Sunset', 'Civil_Twilight','day_of_week','hour_of_day', 'Holiday',\n",
    "        'precipitation_data_present','end_coordinates_present', 'windchill_data_present']]\n",
    "# 'Airport_Code','Country','Timezone','Nautical_Twilight','Astronomical_Twilight',\n",
    "#'Weather_Condition',"
   ]
  },
  {
   "cell_type": "code",
   "execution_count": 11,
   "metadata": {},
   "outputs": [],
   "source": [
    "y = df['Severity']"
   ]
  },
  {
   "cell_type": "markdown",
   "metadata": {},
   "source": [
    "**Create Dummy Variables for Categorical Data**"
   ]
  },
  {
   "cell_type": "code",
   "execution_count": 12,
   "metadata": {},
   "outputs": [],
   "source": [
    "X = pd.get_dummies(X, drop_first = True)"
   ]
  },
  {
   "cell_type": "code",
   "execution_count": 13,
   "metadata": {},
   "outputs": [
    {
     "data": {
      "text/plain": [
       "(3402755, 103)"
      ]
     },
     "execution_count": 13,
     "metadata": {},
     "output_type": "execute_result"
    }
   ],
   "source": [
    "X.shape"
   ]
  },
  {
   "cell_type": "markdown",
   "metadata": {},
   "source": [
    "**Split Data into Train and Test Sets**"
   ]
  },
  {
   "cell_type": "code",
   "execution_count": 14,
   "metadata": {},
   "outputs": [],
   "source": [
    "# Split Data\n",
    "from sklearn.model_selection import train_test_split\n",
    "\n",
    "X_train, X_test, y_train, y_test = train_test_split(\n",
    "    X,y, test_size = 0.2, random_state = 98)"
   ]
  },
  {
   "cell_type": "markdown",
   "metadata": {},
   "source": [
    "# 1. Logistic Regression"
   ]
  },
  {
   "cell_type": "markdown",
   "metadata": {},
   "source": [
    "## Modeling"
   ]
  },
  {
   "cell_type": "code",
   "execution_count": 15,
   "metadata": {},
   "outputs": [],
   "source": [
    "from sklearn.linear_model import LogisticRegression"
   ]
  },
  {
   "cell_type": "code",
   "execution_count": 16,
   "metadata": {},
   "outputs": [
    {
     "name": "stderr",
     "output_type": "stream",
     "text": [
      "/Users/annette/anaconda3/lib/python3.7/site-packages/sklearn/linear_model/logistic.py:947: ConvergenceWarning: lbfgs failed to converge. Increase the number of iterations.\n",
      "  \"of iterations.\", ConvergenceWarning)\n"
     ]
    }
   ],
   "source": [
    "lm = LogisticRegression(solver = 'lbfgs') #(solver = 'lbfgs', max_iter=500)\n",
    "lm.fit(X_train, y_train)\n",
    "predictions = lm.predict(X_test)"
   ]
  },
  {
   "cell_type": "markdown",
   "metadata": {},
   "source": [
    "## Evaluation"
   ]
  },
  {
   "cell_type": "code",
   "execution_count": 17,
   "metadata": {
    "scrolled": true
   },
   "outputs": [
    {
     "name": "stdout",
     "output_type": "stream",
     "text": [
      "              precision    recall  f1-score   support\n",
      "\n",
      "           0       0.78      0.92      0.84    487980\n",
      "           1       0.62      0.33      0.43    192571\n",
      "\n",
      "    accuracy                           0.75    680551\n",
      "   macro avg       0.70      0.62      0.64    680551\n",
      "weighted avg       0.73      0.75      0.73    680551\n",
      "\n",
      "[[448908  39072]\n",
      " [129046  63525]]\n"
     ]
    }
   ],
   "source": [
    "measure_performance(y_test, predictions) "
   ]
  },
  {
   "cell_type": "markdown",
   "metadata": {},
   "source": [
    "**Logistic Regression Model Accuracy: 75%**"
   ]
  },
  {
   "cell_type": "code",
   "execution_count": 18,
   "metadata": {},
   "outputs": [
    {
     "data": {
      "text/plain": [
       "(1, 103)"
      ]
     },
     "execution_count": 18,
     "metadata": {},
     "output_type": "execute_result"
    }
   ],
   "source": [
    "lm.coef_.shape"
   ]
  },
  {
   "cell_type": "code",
   "execution_count": 19,
   "metadata": {},
   "outputs": [
    {
     "data": {
      "text/plain": [
       "(103,)"
      ]
     },
     "execution_count": 19,
     "metadata": {},
     "output_type": "execute_result"
    }
   ],
   "source": [
    "X.columns.shape"
   ]
  },
  {
   "cell_type": "code",
   "execution_count": 20,
   "metadata": {},
   "outputs": [],
   "source": [
    "coeffs = pd.DataFrame(lm.coef_.transpose(), X.columns, columns =['Coefficients'])"
   ]
  },
  {
   "cell_type": "code",
   "execution_count": 21,
   "metadata": {},
   "outputs": [
    {
     "data": {
      "text/html": [
       "<div>\n",
       "<style scoped>\n",
       "    .dataframe tbody tr th:only-of-type {\n",
       "        vertical-align: middle;\n",
       "    }\n",
       "\n",
       "    .dataframe tbody tr th {\n",
       "        vertical-align: top;\n",
       "    }\n",
       "\n",
       "    .dataframe thead th {\n",
       "        text-align: right;\n",
       "    }\n",
       "</style>\n",
       "<table border=\"1\" class=\"dataframe\">\n",
       "  <thead>\n",
       "    <tr style=\"text-align: right;\">\n",
       "      <th></th>\n",
       "      <th>Coefficients</th>\n",
       "    </tr>\n",
       "  </thead>\n",
       "  <tbody>\n",
       "    <tr>\n",
       "      <th>Side_R</th>\n",
       "      <td>0.852465</td>\n",
       "    </tr>\n",
       "    <tr>\n",
       "      <th>State_GA</th>\n",
       "      <td>0.607404</td>\n",
       "    </tr>\n",
       "    <tr>\n",
       "      <th>day_of_week_Saturday</th>\n",
       "      <td>0.558659</td>\n",
       "    </tr>\n",
       "    <tr>\n",
       "      <th>day_of_week_Sunday</th>\n",
       "      <td>0.530822</td>\n",
       "    </tr>\n",
       "    <tr>\n",
       "      <th>Junction</th>\n",
       "      <td>0.484350</td>\n",
       "    </tr>\n",
       "    <tr>\n",
       "      <th>State_IL</th>\n",
       "      <td>0.443462</td>\n",
       "    </tr>\n",
       "    <tr>\n",
       "      <th>State_MO</th>\n",
       "      <td>0.351843</td>\n",
       "    </tr>\n",
       "    <tr>\n",
       "      <th>State_VA</th>\n",
       "      <td>0.315296</td>\n",
       "    </tr>\n",
       "    <tr>\n",
       "      <th>State_CO</th>\n",
       "      <td>0.302236</td>\n",
       "    </tr>\n",
       "    <tr>\n",
       "      <th>State_FL</th>\n",
       "      <td>0.185846</td>\n",
       "    </tr>\n",
       "    <tr>\n",
       "      <th>State_NY</th>\n",
       "      <td>0.179038</td>\n",
       "    </tr>\n",
       "    <tr>\n",
       "      <th>State_WA</th>\n",
       "      <td>0.172639</td>\n",
       "    </tr>\n",
       "    <tr>\n",
       "      <th>State_MD</th>\n",
       "      <td>0.161275</td>\n",
       "    </tr>\n",
       "    <tr>\n",
       "      <th>State_MI</th>\n",
       "      <td>0.152759</td>\n",
       "    </tr>\n",
       "    <tr>\n",
       "      <th>State_CT</th>\n",
       "      <td>0.151807</td>\n",
       "    </tr>\n",
       "    <tr>\n",
       "      <th>State_KY</th>\n",
       "      <td>0.131068</td>\n",
       "    </tr>\n",
       "    <tr>\n",
       "      <th>State_MA</th>\n",
       "      <td>0.127882</td>\n",
       "    </tr>\n",
       "    <tr>\n",
       "      <th>Wind_Direction_West</th>\n",
       "      <td>0.119597</td>\n",
       "    </tr>\n",
       "    <tr>\n",
       "      <th>State_MN</th>\n",
       "      <td>0.094654</td>\n",
       "    </tr>\n",
       "    <tr>\n",
       "      <th>State_RI</th>\n",
       "      <td>0.094070</td>\n",
       "    </tr>\n",
       "    <tr>\n",
       "      <th>Civil_Twilight_Night</th>\n",
       "      <td>0.091738</td>\n",
       "    </tr>\n",
       "    <tr>\n",
       "      <th>Distance(mi)</th>\n",
       "      <td>0.087826</td>\n",
       "    </tr>\n",
       "    <tr>\n",
       "      <th>Wind_Direction_East</th>\n",
       "      <td>0.080046</td>\n",
       "    </tr>\n",
       "    <tr>\n",
       "      <th>State_IA</th>\n",
       "      <td>0.066176</td>\n",
       "    </tr>\n",
       "    <tr>\n",
       "      <th>Wind_Direction_WSW</th>\n",
       "      <td>0.065427</td>\n",
       "    </tr>\n",
       "    <tr>\n",
       "      <th>State_WI</th>\n",
       "      <td>0.063931</td>\n",
       "    </tr>\n",
       "    <tr>\n",
       "      <th>State_IN</th>\n",
       "      <td>0.063904</td>\n",
       "    </tr>\n",
       "    <tr>\n",
       "      <th>Wind_Direction_ESE</th>\n",
       "      <td>0.048820</td>\n",
       "    </tr>\n",
       "    <tr>\n",
       "      <th>Wind_Direction_SE</th>\n",
       "      <td>0.048663</td>\n",
       "    </tr>\n",
       "    <tr>\n",
       "      <th>State_KS</th>\n",
       "      <td>0.044393</td>\n",
       "    </tr>\n",
       "    <tr>\n",
       "      <th>...</th>\n",
       "      <td>...</td>\n",
       "    </tr>\n",
       "    <tr>\n",
       "      <th>State_NH</th>\n",
       "      <td>-0.035968</td>\n",
       "    </tr>\n",
       "    <tr>\n",
       "      <th>Wind_Direction_N</th>\n",
       "      <td>-0.036157</td>\n",
       "    </tr>\n",
       "    <tr>\n",
       "      <th>Pressure(in)</th>\n",
       "      <td>-0.039850</td>\n",
       "    </tr>\n",
       "    <tr>\n",
       "      <th>Wind_Direction_W</th>\n",
       "      <td>-0.045324</td>\n",
       "    </tr>\n",
       "    <tr>\n",
       "      <th>State_NJ</th>\n",
       "      <td>-0.053861</td>\n",
       "    </tr>\n",
       "    <tr>\n",
       "      <th>State_UT</th>\n",
       "      <td>-0.057930</td>\n",
       "    </tr>\n",
       "    <tr>\n",
       "      <th>Wind_Direction_VAR</th>\n",
       "      <td>-0.065617</td>\n",
       "    </tr>\n",
       "    <tr>\n",
       "      <th>precipitation_data_present</th>\n",
       "      <td>-0.077656</td>\n",
       "    </tr>\n",
       "    <tr>\n",
       "      <th>State_NE</th>\n",
       "      <td>-0.115098</td>\n",
       "    </tr>\n",
       "    <tr>\n",
       "      <th>State_TX</th>\n",
       "      <td>-0.125684</td>\n",
       "    </tr>\n",
       "    <tr>\n",
       "      <th>day_of_week_Thursday</th>\n",
       "      <td>-0.148787</td>\n",
       "    </tr>\n",
       "    <tr>\n",
       "      <th>day_of_week_Wednesday</th>\n",
       "      <td>-0.170099</td>\n",
       "    </tr>\n",
       "    <tr>\n",
       "      <th>day_of_week_Tuesday</th>\n",
       "      <td>-0.171716</td>\n",
       "    </tr>\n",
       "    <tr>\n",
       "      <th>day_of_week_Monday</th>\n",
       "      <td>-0.191651</td>\n",
       "    </tr>\n",
       "    <tr>\n",
       "      <th>Amenity</th>\n",
       "      <td>-0.206306</td>\n",
       "    </tr>\n",
       "    <tr>\n",
       "      <th>Station</th>\n",
       "      <td>-0.210399</td>\n",
       "    </tr>\n",
       "    <tr>\n",
       "      <th>windchill_data_present</th>\n",
       "      <td>-0.217491</td>\n",
       "    </tr>\n",
       "    <tr>\n",
       "      <th>State_AZ</th>\n",
       "      <td>-0.224733</td>\n",
       "    </tr>\n",
       "    <tr>\n",
       "      <th>State_LA</th>\n",
       "      <td>-0.293201</td>\n",
       "    </tr>\n",
       "    <tr>\n",
       "      <th>State_PA</th>\n",
       "      <td>-0.311994</td>\n",
       "    </tr>\n",
       "    <tr>\n",
       "      <th>State_OK</th>\n",
       "      <td>-0.380185</td>\n",
       "    </tr>\n",
       "    <tr>\n",
       "      <th>State_OR</th>\n",
       "      <td>-0.426343</td>\n",
       "    </tr>\n",
       "    <tr>\n",
       "      <th>Stop</th>\n",
       "      <td>-0.441956</td>\n",
       "    </tr>\n",
       "    <tr>\n",
       "      <th>State_CA</th>\n",
       "      <td>-0.450263</td>\n",
       "    </tr>\n",
       "    <tr>\n",
       "      <th>State_SC</th>\n",
       "      <td>-0.590662</td>\n",
       "    </tr>\n",
       "    <tr>\n",
       "      <th>State_NC</th>\n",
       "      <td>-0.634367</td>\n",
       "    </tr>\n",
       "    <tr>\n",
       "      <th>Crossing</th>\n",
       "      <td>-0.869569</td>\n",
       "    </tr>\n",
       "    <tr>\n",
       "      <th>Side_L</th>\n",
       "      <td>-0.870981</td>\n",
       "    </tr>\n",
       "    <tr>\n",
       "      <th>end_coordinates_present</th>\n",
       "      <td>-1.367320</td>\n",
       "    </tr>\n",
       "    <tr>\n",
       "      <th>Traffic_Signal</th>\n",
       "      <td>-1.555105</td>\n",
       "    </tr>\n",
       "  </tbody>\n",
       "</table>\n",
       "<p>103 rows × 1 columns</p>\n",
       "</div>"
      ],
      "text/plain": [
       "                            Coefficients\n",
       "Side_R                          0.852465\n",
       "State_GA                        0.607404\n",
       "day_of_week_Saturday            0.558659\n",
       "day_of_week_Sunday              0.530822\n",
       "Junction                        0.484350\n",
       "State_IL                        0.443462\n",
       "State_MO                        0.351843\n",
       "State_VA                        0.315296\n",
       "State_CO                        0.302236\n",
       "State_FL                        0.185846\n",
       "State_NY                        0.179038\n",
       "State_WA                        0.172639\n",
       "State_MD                        0.161275\n",
       "State_MI                        0.152759\n",
       "State_CT                        0.151807\n",
       "State_KY                        0.131068\n",
       "State_MA                        0.127882\n",
       "Wind_Direction_West             0.119597\n",
       "State_MN                        0.094654\n",
       "State_RI                        0.094070\n",
       "Civil_Twilight_Night            0.091738\n",
       "Distance(mi)                    0.087826\n",
       "Wind_Direction_East             0.080046\n",
       "State_IA                        0.066176\n",
       "Wind_Direction_WSW              0.065427\n",
       "State_WI                        0.063931\n",
       "State_IN                        0.063904\n",
       "Wind_Direction_ESE              0.048820\n",
       "Wind_Direction_SE               0.048663\n",
       "State_KS                        0.044393\n",
       "...                                  ...\n",
       "State_NH                       -0.035968\n",
       "Wind_Direction_N               -0.036157\n",
       "Pressure(in)                   -0.039850\n",
       "Wind_Direction_W               -0.045324\n",
       "State_NJ                       -0.053861\n",
       "State_UT                       -0.057930\n",
       "Wind_Direction_VAR             -0.065617\n",
       "precipitation_data_present     -0.077656\n",
       "State_NE                       -0.115098\n",
       "State_TX                       -0.125684\n",
       "day_of_week_Thursday           -0.148787\n",
       "day_of_week_Wednesday          -0.170099\n",
       "day_of_week_Tuesday            -0.171716\n",
       "day_of_week_Monday             -0.191651\n",
       "Amenity                        -0.206306\n",
       "Station                        -0.210399\n",
       "windchill_data_present         -0.217491\n",
       "State_AZ                       -0.224733\n",
       "State_LA                       -0.293201\n",
       "State_PA                       -0.311994\n",
       "State_OK                       -0.380185\n",
       "State_OR                       -0.426343\n",
       "Stop                           -0.441956\n",
       "State_CA                       -0.450263\n",
       "State_SC                       -0.590662\n",
       "State_NC                       -0.634367\n",
       "Crossing                       -0.869569\n",
       "Side_L                         -0.870981\n",
       "end_coordinates_present        -1.367320\n",
       "Traffic_Signal                 -1.555105\n",
       "\n",
       "[103 rows x 1 columns]"
      ]
     },
     "execution_count": 21,
     "metadata": {},
     "output_type": "execute_result"
    }
   ],
   "source": [
    "coeffs.sort_values(by = 'Coefficients', ascending = False)"
   ]
  },
  {
   "cell_type": "markdown",
   "metadata": {},
   "source": [
    "# 2. Random Forest"
   ]
  },
  {
   "cell_type": "markdown",
   "metadata": {},
   "source": [
    "## Modeling"
   ]
  },
  {
   "cell_type": "code",
   "execution_count": 26,
   "metadata": {},
   "outputs": [],
   "source": [
    "from sklearn.ensemble import RandomForestClassifier"
   ]
  },
  {
   "cell_type": "code",
   "execution_count": null,
   "metadata": {},
   "outputs": [],
   "source": [
    "rf = RandomForestClassifier(n_estimators = 100)\n",
    "rf.fit(X_train,y_train)\n",
    "rf_predictions = rf.predict(X_test)"
   ]
  },
  {
   "cell_type": "markdown",
   "metadata": {},
   "source": [
    "## Evaluation"
   ]
  },
  {
   "cell_type": "code",
   "execution_count": null,
   "metadata": {},
   "outputs": [],
   "source": [
    "print(classification_report(y_test, rf_predictions))"
   ]
  },
  {
   "attachments": {
    "image.png": {
     "image/png": "[encoded data removed]"
    }
   },
   "cell_type": "markdown",
   "metadata": {},
   "source": [
    "**Image**\n",
    "![image.png](attachment:image.png)"
   ]
  },
  {
   "cell_type": "markdown",
   "metadata": {},
   "source": [
    "**Random Forest Classifier Accuracy: 79%**"
   ]
  }
 ],
 "metadata": {
  "kernelspec": {
   "display_name": "Python 3",
   "language": "python",
   "name": "python3"
  },
  "language_info": {
   "codemirror_mode": {
    "name": "ipython",
    "version": 3
   },
   "file_extension": ".py",
   "mimetype": "text/x-python",
   "name": "python",
   "nbconvert_exporter": "python",
   "pygments_lexer": "ipython3",
   "version": "3.7.3"
  }
 },
 "nbformat": 4,
 "nbformat_minor": 2
}
